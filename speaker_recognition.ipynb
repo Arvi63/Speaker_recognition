{
 "cells": [
  {
   "cell_type": "code",
   "execution_count": null,
   "metadata": {},
   "outputs": [],
   "source": [
    "import os\n",
    "\n",
    "for dirname, _, filenames in os.walk('/kaggle/input'):\n",
    "    for filename in filenames:\n",
    "        print(os.path.join(dirname, filename))\n"
   ]
  },
  {
   "cell_type": "code",
   "execution_count": 3,
   "metadata": {
    "colab": {
     "base_uri": "https://localhost:8080/",
     "height": 384
    },
    "id": "dr0HeQ7cIWcq",
    "outputId": "61858c62-f913-40ba-a772-12a8ee807a8f"
   },
   "outputs": [
    {
     "name": "stdout",
     "output_type": "stream",
     "text": [
      "Sun Oct  4 04:45:55 2020       \n",
      "+-----------------------------------------------------------------------------+\n",
      "| NVIDIA-SMI 455.23.05    Driver Version: 418.67       CUDA Version: 10.1     |\n",
      "|-------------------------------+----------------------+----------------------+\n",
      "| GPU  Name        Persistence-M| Bus-Id        Disp.A | Volatile Uncorr. ECC |\n",
      "| Fan  Temp  Perf  Pwr:Usage/Cap|         Memory-Usage | GPU-Util  Compute M. |\n",
      "|                               |                      |               MIG M. |\n",
      "|===============================+======================+======================|\n",
      "|   0  Tesla T4            Off  | 00000000:00:04.0 Off |                    0 |\n",
      "| N/A   61C    P8    11W /  70W |      0MiB / 15079MiB |      0%      Default |\n",
      "|                               |                      |                 ERR! |\n",
      "+-------------------------------+----------------------+----------------------+\n",
      "                                                                               \n",
      "+-----------------------------------------------------------------------------+\n",
      "| Processes:                                                                  |\n",
      "|  GPU   GI   CI        PID   Type   Process name                  GPU Memory |\n",
      "|        ID   ID                                                   Usage      |\n",
      "|=============================================================================|\n",
      "|  No running processes found                                                 |\n",
      "+-----------------------------------------------------------------------------+\n"
     ]
    }
   ],
   "source": [
    "!nvidia-smi"
   ]
  },
  {
   "cell_type": "code",
   "execution_count": null,
   "metadata": {},
   "outputs": [],
   "source": [
    "# For listening the wav file\n",
    "import IPython.display as ipd\n",
    "ipd.Audio('/kaggle/input/ravdess-emotional-song-audio/Actor_22/03-02-05-02-02-01-22.wav')"
   ]
  },
  {
   "cell_type": "code",
   "execution_count": 4,
   "metadata": {
    "id": "8yleEpeAsSD9"
   },
   "outputs": [],
   "source": [
    "import numpy as np\n",
    "import pandas as pd\n",
    "import matplotlib.pyplot as plt\n",
    "from scipy import signal\n",
    "from scipy.io import wavfile\n",
    "# !pip install librosa\n",
    "import librosa\n",
    "import librosa.display\n",
    "import glob\n",
    "from tqdm import tqdm\n",
    "from sklearn.preprocessing import OneHotEncoder\n",
    "from sklearn.model_selection import train_test_split\n",
    "import random"
   ]
  },
  {
   "cell_type": "code",
   "execution_count": null,
   "metadata": {},
   "outputs": [],
   "source": [
    "# Reading the audio file\n",
    "# 1012 is total number of data\n",
    "# (128,275) is maximum number of dimension the spectrogram gives as output in this dataset. It is found using simple\n",
    "# loop and \n",
    "#     if int(spec.shape[1])> max_dim:\n",
    "#         max_dim = spec.shape[1]\n",
    "X_data = np.zeros((1012,128,275))\n",
    "y_data = []\n",
    "path = '/kaggle/input/ravdess-emotional-song-audio/audio_song_actors_01-24'\n",
    "max_dim = 0\n",
    "for i,file_path in tqdm(enumerate(glob.glob(path+'/*/**'))):\n",
    "    # loading the audio file\n",
    "    data, sampling_rate = librosa.load(file_path)\n",
    "    # spectogram of the given audio\n",
    "    spec = librosa.feature.melspectrogram(y=data, sr=sampling_rate)\n",
    "\n",
    "    # Padding the output of spectogram with zeros and making shape of (128,275)\n",
    "    if int(spec.shape[1]) != 275:\n",
    "        result = np.zeros((128,275))\n",
    "        result[:spec.shape[0],:spec.shape[1]] = spec\n",
    "    else:\n",
    "        result = spec\n",
    "        \n",
    "        \n",
    "\n",
    "    X_data[i] = result\n",
    "    #appending speaker name in a list\n",
    "    y_data.append(file_path.split('/')[-2])\n",
    "\n",
    "        "
   ]
  },
  {
   "cell_type": "code",
   "execution_count": 8,
   "metadata": {
    "id": "d4s14uCtv1eP"
   },
   "outputs": [],
   "source": [
    "from sklearn import preprocessing\n",
    "le = preprocessing.LabelEncoder()\n",
    "Y_data = le.fit_transform(y_data)"
   ]
  },
  {
   "cell_type": "code",
   "execution_count": 9,
   "metadata": {
    "id": "Rx9fjiA8v7af"
   },
   "outputs": [],
   "source": [
    "x_train, x_test, y_train, y_test = train_test_split(X_data, Y_data, test_size=0.3)"
   ]
  },
  {
   "cell_type": "code",
   "execution_count": 10,
   "metadata": {
    "id": "3P4FPkXkv_BF"
   },
   "outputs": [],
   "source": [
    "x_train = x_train.astype('float32')\n",
    "x_test = x_test.astype('float32')\n",
    "x_train /= 255\n",
    "x_test /= 255"
   ]
  },
  {
   "cell_type": "code",
   "execution_count": 43,
   "metadata": {
    "colab": {
     "base_uri": "https://localhost:8080/",
     "height": 35
    },
    "id": "k_ZXKRRlC7x1",
    "outputId": "b0700574-596d-4de8-c48f-6f5eb5e01b88"
   },
   "outputs": [
    {
     "data": {
      "text/plain": [
       "(708, 128, 275)"
      ]
     },
     "execution_count": 43,
     "metadata": {
      "tags": []
     },
     "output_type": "execute_result"
    }
   ],
   "source": [
    "x_train.shape"
   ]
  },
  {
   "cell_type": "code",
   "execution_count": null,
   "metadata": {
    "colab": {
     "base_uri": "https://localhost:8080/",
     "height": 54
    },
    "id": "owsfS19mwBgI",
    "outputId": "f9efc8e4-9551-411a-a4e8-98126e79d8f7"
   },
   "outputs": [
    {
     "name": "stderr",
     "output_type": "stream",
     "text": [
      "100%|██████████| 708/708 [00:00<00:00, 99223.71it/s]\n",
      "100%|██████████| 304/304 [00:00<00:00, 120676.55it/s]\n"
     ]
    }
   ],
   "source": [
    "\n",
    "# make pairs\n",
    "def make_pairs(x, y):\n",
    "    num_classes = max(y) + 1\n",
    "    # return index of matched condition(y==i)\n",
    "    digit_indices = [np.where(y == i)[0] for i in range(num_classes)]\n",
    "\n",
    "    pairs = []\n",
    "    labels = []\n",
    "\n",
    "    for idx1 in tqdm(range(len(x))):\n",
    "        # add a matching example\n",
    "        x1 = x[idx1]\n",
    "        label1 = y[idx1]\n",
    "        idx2 = random.choice(digit_indices[label1])\n",
    "        x2 = x[idx2]\n",
    "        \n",
    "        pairs += [[x1, x2]]\n",
    "        labels += [1]\n",
    "    \n",
    "        # add a not matching example\n",
    "        label2 = random.randint(0, num_classes-1)\n",
    "        while label2 == label1:\n",
    "            label2 = random.randint(0, num_classes-1)\n",
    "\n",
    "        idx2 = random.choice(digit_indices[label2])\n",
    "        x2 = x[idx2]\n",
    "        \n",
    "        pairs += [[x1, x2]]\n",
    "        labels += [0]\n",
    "\n",
    "    return np.array(pairs), np.array(labels)\n",
    "\n",
    "pairs_train, labels_train = make_pairs(x_train, y_train)\n",
    "pairs_test, labels_test = make_pairs(x_test, y_test)\n",
    "\n"
   ]
  },
  {
   "cell_type": "code",
   "execution_count": null,
   "metadata": {
    "colab": {
     "base_uri": "https://localhost:8080/",
     "height": 35
    },
    "id": "_357mPsfwNKy",
    "outputId": "909c6b29-b9e5-4984-d389-e1777ec0c3fd"
   },
   "outputs": [
    {
     "data": {
      "text/plain": [
       "(1416, 2, 128, 275)"
      ]
     },
     "execution_count": 14,
     "metadata": {
      "tags": []
     },
     "output_type": "execute_result"
    }
   ],
   "source": [
    "pairs_train.shape"
   ]
  },
  {
   "cell_type": "code",
   "execution_count": null,
   "metadata": {
    "colab": {
     "base_uri": "https://localhost:8080/",
     "height": 225
    },
    "id": "nQiArEEswSR2",
    "outputId": "e0fe9c94-1cb2-4e58-b2e0-ab170849c1d3"
   },
   "outputs": [
    {
     "name": "stdout",
     "output_type": "stream",
     "text": [
      "0\n"
     ]
    },
    {
     "data": {
      "image/png": "[encoded data removed]",
      "text/plain": [
       "<Figure size 432x288 with 1 Axes>"
      ]
     },
     "metadata": {
      "needs_background": "light",
      "tags": []
     },
     "output_type": "display_data"
    }
   ],
   "source": [
    "# take a peek at the data\n",
    "plt.imshow(pairs_train[45,0])\n",
    "print(labels_train[45])"
   ]
  },
  {
   "cell_type": "code",
   "execution_count": null,
   "metadata": {
    "id": "yadC9_VtwU92"
   },
   "outputs": [],
   "source": [
    "from tensorflow.keras.layers import Conv2D, ZeroPadding2D, Activation, Input, concatenate, Dense,Dropout,MaxPooling2D\n",
    "from tensorflow.keras.models import Model\n",
    "from tensorflow.keras.layers import Lambda\n",
    "from tensorflow.keras import backend as K\n",
    "from tensorflow.keras.models import Sequential, Model,load_model\n",
    "from tensorflow.keras.layers import Flatten, Dense, Concatenate, Dot, Lambda, Input\n",
    "from tensorflow.keras.datasets import mnist\n",
    "from tensorflow.keras.optimizers import Adam"
   ]
  },
  {
   "cell_type": "code",
   "execution_count": null,
   "metadata": {
    "id": "784lU9FownMn"
   },
   "outputs": [],
   "source": [
    "def get_siamese_model(input_shape):\n",
    "\n",
    "  left_input = Input(input_shape)\n",
    "  right_input = Input(input_shape)\n",
    "\n",
    "  model = Sequential()\n",
    "  model.add(Conv2D(32, (3,3), activation='relu', input_shape=input_shape))\n",
    "  model.add(MaxPooling2D())\n",
    "  model.add(Dropout(0.4))\n",
    "  model.add(Conv2D(64, (3,3), activation='relu'))\n",
    "  model.add(Dropout(0.4))\n",
    "  # model.add(Conv2D(256, (2,2), activation='relu'))\n",
    "  model.add(Flatten())\n",
    "  model.add(Dense(256, activation='relu'))\n",
    "  model.add(Dropout(0.5))\n",
    "  # Generate the encodings (feature vectors) for the two images\n",
    "  encoded_l = model(left_input)\n",
    "  encoded_r = model(right_input)\n",
    "\n",
    "  # Add a customized layer to compute the absolute difference between the encodings\n",
    "  L1_layer = Lambda(lambda tensors:K.abs(tensors[0] - tensors[1]))\n",
    "  L1_distance = L1_layer([encoded_l, encoded_r])\n",
    "\n",
    "\n",
    "  # Add a dense layer with a sigmoid unit to generate the similarity score\n",
    "  prediction = Dense(1,activation='sigmoid')(L1_distance)\n",
    "\n",
    "  # Connect the inputs with the outputs\n",
    "  siamese_net = Model(inputs=[left_input,right_input],outputs=prediction)\n",
    "\n",
    "  return siamese_net"
   ]
  },
  {
   "cell_type": "code",
   "execution_count": null,
   "metadata": {
    "colab": {
     "base_uri": "https://localhost:8080/",
     "height": 384
    },
    "id": "LPd4PdZgwpfq",
    "outputId": "3dd257c0-2f18-41eb-f27a-c495dd672fe3"
   },
   "outputs": [
    {
     "name": "stdout",
     "output_type": "stream",
     "text": [
      "Model: \"functional_11\"\n",
      "__________________________________________________________________________________________________\n",
      "Layer (type)                    Output Shape         Param #     Connected to                     \n",
      "==================================================================================================\n",
      "input_11 (InputLayer)           [(None, 128, 275, 1) 0                                            \n",
      "__________________________________________________________________________________________________\n",
      "input_12 (InputLayer)           [(None, 128, 275, 1) 0                                            \n",
      "__________________________________________________________________________________________________\n",
      "sequential_5 (Sequential)       (None, 256)          133941888   input_11[0][0]                   \n",
      "                                                                 input_12[0][0]                   \n",
      "__________________________________________________________________________________________________\n",
      "lambda_5 (Lambda)               (None, 256)          0           sequential_5[0][0]               \n",
      "                                                                 sequential_5[1][0]               \n",
      "__________________________________________________________________________________________________\n",
      "dense_11 (Dense)                (None, 1)            257         lambda_5[0][0]                   \n",
      "==================================================================================================\n",
      "Total params: 133,942,145\n",
      "Trainable params: 133,942,145\n",
      "Non-trainable params: 0\n",
      "__________________________________________________________________________________________________\n"
     ]
    }
   ],
   "source": [
    "model = get_siamese_model((128,275,1))\n",
    "model.summary()"
   ]
  },
  {
   "cell_type": "code",
   "execution_count": null,
   "metadata": {
    "colab": {
     "base_uri": "https://localhost:8080/",
     "height": 369
    },
    "id": "Xv7654grDO0p",
    "outputId": "34e9c4a7-36a6-4033-a12b-b025836c41e6"
   },
   "outputs": [
    {
     "data": {
      "image/png": "[encoded data removed]",
      "text/plain": [
       "<IPython.core.display.Image object>"
      ]
     },
     "execution_count": 77,
     "metadata": {
      "tags": []
     },
     "output_type": "execute_result"
    }
   ],
   "source": [
    "from tensorflow.keras.utils import plot_model\n",
    "# plot graph\n",
    "plot_model(model, to_file='audio_siam.png')"
   ]
  },
  {
   "cell_type": "code",
   "execution_count": null,
   "metadata": {
    "id": "4Z6djepVwsAK"
   },
   "outputs": [],
   "source": [
    "optimizer = Adam(lr = 0.001)\n",
    "model.compile(loss=\"binary_crossentropy\",optimizer=optimizer,metrics=[\"accuracy\"])"
   ]
  },
  {
   "cell_type": "code",
   "execution_count": null,
   "metadata": {
    "colab": {
     "base_uri": "https://localhost:8080/",
     "height": 1000
    },
    "id": "iW4o3LIl0IfW",
    "outputId": "89f0f24c-087a-4d9f-a1db-0fcfbe8be86d"
   },
   "outputs": [
    {
     "name": "stdout",
     "output_type": "stream",
     "text": [
      "Epoch 1/80\n",
      " 2/45 [>.............................] - ETA: 4s - loss: 0.7135 - accuracy: 0.4531WARNING:tensorflow:Callbacks method `on_train_batch_end` is slow compared to the batch time (batch time: 0.0398s vs `on_train_batch_end` time: 0.0740s). Check your callbacks.\n",
      "45/45 [==============================] - ETA: 0s - loss: 0.6994 - accuracy: 0.4908WARNING:tensorflow:Callbacks method `on_test_batch_end` is slow compared to the batch time (batch time: 0.0044s vs `on_test_batch_end` time: 0.0200s). Check your callbacks.\n",
      "45/45 [==============================] - 6s 123ms/step - loss: 0.6994 - accuracy: 0.4908 - val_loss: 0.6931 - val_accuracy: 0.5099\n",
      "Epoch 2/80\n",
      "45/45 [==============================] - 5s 119ms/step - loss: 0.6929 - accuracy: 0.5148 - val_loss: 0.6930 - val_accuracy: 0.5099\n",
      "Epoch 3/80\n",
      "45/45 [==============================] - 5s 119ms/step - loss: 0.6926 - accuracy: 0.5064 - val_loss: 0.6922 - val_accuracy: 0.5312\n",
      "Epoch 4/80\n",
      "45/45 [==============================] - 5s 120ms/step - loss: 0.6958 - accuracy: 0.4965 - val_loss: 0.6928 - val_accuracy: 0.5230\n",
      "Epoch 5/80\n",
      "45/45 [==============================] - 5s 119ms/step - loss: 0.6918 - accuracy: 0.5381 - val_loss: 0.6927 - val_accuracy: 0.5197\n",
      "Epoch 6/80\n",
      "45/45 [==============================] - 5s 120ms/step - loss: 0.6926 - accuracy: 0.5290 - val_loss: 0.6926 - val_accuracy: 0.5197\n",
      "Epoch 7/80\n",
      "45/45 [==============================] - 5s 120ms/step - loss: 0.6914 - accuracy: 0.5162 - val_loss: 0.6915 - val_accuracy: 0.5510\n",
      "Epoch 8/80\n",
      "45/45 [==============================] - 5s 120ms/step - loss: 0.6916 - accuracy: 0.5311 - val_loss: 0.6920 - val_accuracy: 0.5378\n",
      "Epoch 9/80\n",
      "45/45 [==============================] - 5s 120ms/step - loss: 0.6904 - accuracy: 0.5318 - val_loss: 0.6918 - val_accuracy: 0.5510\n",
      "Epoch 10/80\n",
      "45/45 [==============================] - 5s 120ms/step - loss: 0.6906 - accuracy: 0.5516 - val_loss: 0.6900 - val_accuracy: 0.5592\n",
      "Epoch 11/80\n",
      "45/45 [==============================] - 5s 119ms/step - loss: 0.6852 - accuracy: 0.5395 - val_loss: 0.6906 - val_accuracy: 0.5576\n",
      "Epoch 12/80\n",
      "45/45 [==============================] - 5s 119ms/step - loss: 0.6874 - accuracy: 0.5565 - val_loss: 0.6916 - val_accuracy: 0.5395\n",
      "Epoch 13/80\n",
      "45/45 [==============================] - 5s 119ms/step - loss: 0.6856 - accuracy: 0.5565 - val_loss: 0.6906 - val_accuracy: 0.5444\n",
      "Epoch 14/80\n",
      "45/45 [==============================] - 5s 119ms/step - loss: 0.6894 - accuracy: 0.5508 - val_loss: 0.6904 - val_accuracy: 0.5609\n",
      "Epoch 15/80\n",
      "45/45 [==============================] - 5s 119ms/step - loss: 0.6842 - accuracy: 0.5438 - val_loss: 0.6877 - val_accuracy: 0.5609\n",
      "Epoch 16/80\n",
      "45/45 [==============================] - 5s 119ms/step - loss: 0.6809 - accuracy: 0.5713 - val_loss: 0.6864 - val_accuracy: 0.5674\n",
      "Epoch 17/80\n",
      "45/45 [==============================] - 5s 119ms/step - loss: 0.6790 - accuracy: 0.5643 - val_loss: 0.6844 - val_accuracy: 0.5724\n",
      "Epoch 18/80\n",
      "45/45 [==============================] - 5s 119ms/step - loss: 0.6735 - accuracy: 0.5480 - val_loss: 0.6884 - val_accuracy: 0.5543\n",
      "Epoch 19/80\n",
      "45/45 [==============================] - 5s 119ms/step - loss: 0.6775 - accuracy: 0.5713 - val_loss: 0.6787 - val_accuracy: 0.5773\n",
      "Epoch 20/80\n",
      "45/45 [==============================] - 5s 120ms/step - loss: 0.6729 - accuracy: 0.5805 - val_loss: 0.6785 - val_accuracy: 0.5641\n",
      "Epoch 21/80\n",
      "45/45 [==============================] - 5s 119ms/step - loss: 0.6686 - accuracy: 0.5756 - val_loss: 0.6747 - val_accuracy: 0.5905\n",
      "Epoch 22/80\n",
      "45/45 [==============================] - 5s 119ms/step - loss: 0.6683 - accuracy: 0.5742 - val_loss: 0.6759 - val_accuracy: 0.6250\n",
      "Epoch 23/80\n",
      "45/45 [==============================] - 5s 120ms/step - loss: 0.6641 - accuracy: 0.5883 - val_loss: 0.6712 - val_accuracy: 0.6382\n",
      "Epoch 24/80\n",
      "45/45 [==============================] - 5s 120ms/step - loss: 0.6597 - accuracy: 0.5982 - val_loss: 0.6625 - val_accuracy: 0.6447\n",
      "Epoch 25/80\n",
      "45/45 [==============================] - 5s 119ms/step - loss: 0.6597 - accuracy: 0.5982 - val_loss: 0.6655 - val_accuracy: 0.6201\n",
      "Epoch 26/80\n",
      "45/45 [==============================] - 5s 119ms/step - loss: 0.6516 - accuracy: 0.6109 - val_loss: 0.6608 - val_accuracy: 0.6628\n",
      "Epoch 27/80\n",
      "45/45 [==============================] - 5s 119ms/step - loss: 0.6396 - accuracy: 0.6292 - val_loss: 0.6323 - val_accuracy: 0.6924\n",
      "Epoch 28/80\n",
      "45/45 [==============================] - 5s 119ms/step - loss: 0.6444 - accuracy: 0.6201 - val_loss: 0.6424 - val_accuracy: 0.6809\n",
      "Epoch 29/80\n",
      "45/45 [==============================] - 5s 119ms/step - loss: 0.6423 - accuracy: 0.6186 - val_loss: 0.6480 - val_accuracy: 0.6908\n",
      "Epoch 30/80\n",
      "45/45 [==============================] - 5s 119ms/step - loss: 0.6401 - accuracy: 0.6370 - val_loss: 0.6170 - val_accuracy: 0.7253\n",
      "Epoch 31/80\n",
      "45/45 [==============================] - 5s 119ms/step - loss: 0.6369 - accuracy: 0.6384 - val_loss: 0.6291 - val_accuracy: 0.6793\n",
      "Epoch 32/80\n",
      "45/45 [==============================] - 5s 119ms/step - loss: 0.6286 - accuracy: 0.6335 - val_loss: 0.6274 - val_accuracy: 0.7072\n",
      "Epoch 33/80\n",
      "45/45 [==============================] - 5s 118ms/step - loss: 0.6199 - accuracy: 0.6596 - val_loss: 0.6206 - val_accuracy: 0.6957\n",
      "Epoch 34/80\n",
      "45/45 [==============================] - 5s 119ms/step - loss: 0.6232 - accuracy: 0.6455 - val_loss: 0.5908 - val_accuracy: 0.7286\n",
      "Epoch 35/80\n",
      "45/45 [==============================] - 5s 119ms/step - loss: 0.6185 - accuracy: 0.6645 - val_loss: 0.6028 - val_accuracy: 0.7204\n",
      "Epoch 36/80\n",
      "45/45 [==============================] - 5s 119ms/step - loss: 0.5986 - accuracy: 0.6808 - val_loss: 0.5878 - val_accuracy: 0.7171\n",
      "Epoch 37/80\n",
      "45/45 [==============================] - 5s 119ms/step - loss: 0.5934 - accuracy: 0.6900 - val_loss: 0.5651 - val_accuracy: 0.7418\n",
      "Epoch 38/80\n",
      "45/45 [==============================] - 5s 119ms/step - loss: 0.5912 - accuracy: 0.6744 - val_loss: 0.5612 - val_accuracy: 0.7434\n",
      "Epoch 39/80\n",
      "45/45 [==============================] - 5s 119ms/step - loss: 0.5844 - accuracy: 0.6963 - val_loss: 0.5857 - val_accuracy: 0.7122\n",
      "Epoch 40/80\n",
      "45/45 [==============================] - 5s 119ms/step - loss: 0.5854 - accuracy: 0.6914 - val_loss: 0.5680 - val_accuracy: 0.7204\n",
      "Epoch 41/80\n",
      "45/45 [==============================] - 5s 119ms/step - loss: 0.5822 - accuracy: 0.6914 - val_loss: 0.5317 - val_accuracy: 0.7270\n",
      "Epoch 42/80\n",
      "45/45 [==============================] - 5s 119ms/step - loss: 0.5498 - accuracy: 0.7140 - val_loss: 0.5542 - val_accuracy: 0.7171\n",
      "Epoch 43/80\n",
      "45/45 [==============================] - 5s 119ms/step - loss: 0.5697 - accuracy: 0.6949 - val_loss: 0.5663 - val_accuracy: 0.7352\n",
      "Epoch 44/80\n",
      "45/45 [==============================] - 5s 119ms/step - loss: 0.5657 - accuracy: 0.7013 - val_loss: 0.5537 - val_accuracy: 0.7352\n",
      "Epoch 45/80\n",
      "45/45 [==============================] - 5s 119ms/step - loss: 0.5651 - accuracy: 0.6956 - val_loss: 0.5297 - val_accuracy: 0.7566\n",
      "Epoch 46/80\n",
      "45/45 [==============================] - 5s 119ms/step - loss: 0.5408 - accuracy: 0.7147 - val_loss: 0.5296 - val_accuracy: 0.7089\n",
      "Epoch 47/80\n",
      "45/45 [==============================] - 5s 119ms/step - loss: 0.5384 - accuracy: 0.7225 - val_loss: 0.5405 - val_accuracy: 0.7319\n",
      "Epoch 48/80\n",
      "45/45 [==============================] - 5s 119ms/step - loss: 0.5584 - accuracy: 0.7013 - val_loss: 0.5099 - val_accuracy: 0.7500\n",
      "Epoch 49/80\n",
      "45/45 [==============================] - 5s 119ms/step - loss: 0.5299 - accuracy: 0.7267 - val_loss: 0.5083 - val_accuracy: 0.7418\n",
      "Epoch 50/80\n",
      "45/45 [==============================] - 5s 119ms/step - loss: 0.5235 - accuracy: 0.7472 - val_loss: 0.5221 - val_accuracy: 0.7270\n",
      "Epoch 51/80\n",
      "45/45 [==============================] - 5s 119ms/step - loss: 0.5176 - accuracy: 0.7422 - val_loss: 0.4955 - val_accuracy: 0.7434\n",
      "Epoch 52/80\n",
      "45/45 [==============================] - 5s 119ms/step - loss: 0.4981 - accuracy: 0.7500 - val_loss: 0.4882 - val_accuracy: 0.7582\n",
      "Epoch 53/80\n",
      "45/45 [==============================] - 5s 119ms/step - loss: 0.5201 - accuracy: 0.7345 - val_loss: 0.4878 - val_accuracy: 0.7599\n",
      "Epoch 54/80\n",
      "45/45 [==============================] - 5s 119ms/step - loss: 0.5114 - accuracy: 0.7549 - val_loss: 0.4812 - val_accuracy: 0.7615\n",
      "Epoch 55/80\n",
      "45/45 [==============================] - 5s 119ms/step - loss: 0.5166 - accuracy: 0.7542 - val_loss: 0.4854 - val_accuracy: 0.7582\n",
      "Epoch 56/80\n",
      "45/45 [==============================] - 5s 119ms/step - loss: 0.4834 - accuracy: 0.7669 - val_loss: 0.4935 - val_accuracy: 0.7533\n",
      "Epoch 57/80\n",
      "45/45 [==============================] - 5s 118ms/step - loss: 0.4996 - accuracy: 0.7542 - val_loss: 0.4921 - val_accuracy: 0.7549\n",
      "Epoch 58/80\n",
      "45/45 [==============================] - 5s 119ms/step - loss: 0.5004 - accuracy: 0.7465 - val_loss: 0.4643 - val_accuracy: 0.7730\n",
      "Epoch 59/80\n",
      "45/45 [==============================] - 5s 119ms/step - loss: 0.4846 - accuracy: 0.7599 - val_loss: 0.4795 - val_accuracy: 0.7615\n",
      "Epoch 60/80\n",
      "45/45 [==============================] - 5s 119ms/step - loss: 0.4749 - accuracy: 0.7712 - val_loss: 0.4662 - val_accuracy: 0.7681\n",
      "Epoch 61/80\n",
      "45/45 [==============================] - 5s 119ms/step - loss: 0.4775 - accuracy: 0.7655 - val_loss: 0.4659 - val_accuracy: 0.7632\n",
      "Epoch 62/80\n",
      "45/45 [==============================] - 5s 119ms/step - loss: 0.4910 - accuracy: 0.7578 - val_loss: 0.4706 - val_accuracy: 0.7681\n",
      "Epoch 63/80\n",
      "45/45 [==============================] - 5s 119ms/step - loss: 0.4804 - accuracy: 0.7677 - val_loss: 0.4731 - val_accuracy: 0.7582\n",
      "Epoch 64/80\n",
      "45/45 [==============================] - 5s 119ms/step - loss: 0.4862 - accuracy: 0.7542 - val_loss: 0.4525 - val_accuracy: 0.7681\n",
      "Epoch 65/80\n",
      "45/45 [==============================] - 5s 119ms/step - loss: 0.4595 - accuracy: 0.7832 - val_loss: 0.4617 - val_accuracy: 0.7780\n",
      "Epoch 66/80\n",
      "45/45 [==============================] - 5s 119ms/step - loss: 0.4488 - accuracy: 0.7867 - val_loss: 0.4584 - val_accuracy: 0.7796\n",
      "Epoch 67/80\n",
      "45/45 [==============================] - 5s 119ms/step - loss: 0.4416 - accuracy: 0.7797 - val_loss: 0.4590 - val_accuracy: 0.7911\n",
      "Epoch 68/80\n",
      "45/45 [==============================] - 5s 119ms/step - loss: 0.4661 - accuracy: 0.7726 - val_loss: 0.4525 - val_accuracy: 0.7993\n",
      "Epoch 69/80\n",
      "45/45 [==============================] - 5s 119ms/step - loss: 0.4467 - accuracy: 0.7874 - val_loss: 0.4739 - val_accuracy: 0.7549\n",
      "Epoch 70/80\n",
      "45/45 [==============================] - 5s 119ms/step - loss: 0.4568 - accuracy: 0.7782 - val_loss: 0.4412 - val_accuracy: 0.8026\n",
      "Epoch 71/80\n",
      "45/45 [==============================] - 5s 119ms/step - loss: 0.4517 - accuracy: 0.7874 - val_loss: 0.4465 - val_accuracy: 0.7961\n",
      "Epoch 72/80\n",
      "45/45 [==============================] - 5s 119ms/step - loss: 0.4484 - accuracy: 0.7818 - val_loss: 0.4461 - val_accuracy: 0.7944\n",
      "Epoch 73/80\n",
      "45/45 [==============================] - 5s 118ms/step - loss: 0.4822 - accuracy: 0.7684 - val_loss: 0.4545 - val_accuracy: 0.7895\n",
      "Epoch 74/80\n",
      "45/45 [==============================] - 5s 119ms/step - loss: 0.4589 - accuracy: 0.7719 - val_loss: 0.4458 - val_accuracy: 0.7928\n",
      "Epoch 75/80\n",
      "45/45 [==============================] - 5s 119ms/step - loss: 0.4234 - accuracy: 0.8086 - val_loss: 0.4417 - val_accuracy: 0.7895\n",
      "Epoch 76/80\n",
      "45/45 [==============================] - 5s 119ms/step - loss: 0.4449 - accuracy: 0.7860 - val_loss: 0.4360 - val_accuracy: 0.7993\n",
      "Epoch 77/80\n",
      "45/45 [==============================] - 5s 119ms/step - loss: 0.4383 - accuracy: 0.7874 - val_loss: 0.4395 - val_accuracy: 0.7895\n",
      "Epoch 78/80\n",
      "45/45 [==============================] - 5s 119ms/step - loss: 0.4220 - accuracy: 0.8065 - val_loss: 0.4412 - val_accuracy: 0.7895\n",
      "Epoch 79/80\n",
      "45/45 [==============================] - 5s 119ms/step - loss: 0.4232 - accuracy: 0.7980 - val_loss: 0.4421 - val_accuracy: 0.7993\n",
      "Epoch 80/80\n",
      "45/45 [==============================] - 5s 119ms/step - loss: 0.4468 - accuracy: 0.7895 - val_loss: 0.4280 - val_accuracy: 0.8076\n"
     ]
    }
   ],
   "source": [
    " history = model.fit([pairs_train[:,0], pairs_train[:,1]], labels_train[:],epochs= 80,batch_size=32,validation_data=([pairs_test[:,0], pairs_test[:,1]],labels_test[:]))"
   ]
  },
  {
   "cell_type": "code",
   "execution_count": null,
   "metadata": {
    "colab": {
     "base_uri": "https://localhost:8080/",
     "height": 283
    },
    "id": "YsI_p2zh0MtR",
    "outputId": "272501e0-87f3-4371-eb27-5278f64c089f"
   },
   "outputs": [
    {
     "data": {
      "text/plain": [
       "<matplotlib.legend.Legend at 0x7fd9c87594e0>"
      ]
     },
     "execution_count": 69,
     "metadata": {
      "tags": []
     },
     "output_type": "execute_result"
    },
    {
     "data": {
      "image/png": "[encoded data removed]",
      "text/plain": [
       "<Figure size 432x288 with 1 Axes>"
      ]
     },
     "metadata": {
      "needs_background": "light",
      "tags": []
     },
     "output_type": "display_data"
    }
   ],
   "source": [
    "accuracy = history.history['accuracy']\n",
    "val_accuracy = history.history['val_accuracy']\n",
    "plt.plot(range(len(accuracy)),accuracy,label='accuracy')\n",
    "plt.plot(range(len(val_accuracy)),val_accuracy,label='val_accuracy')\n",
    "plt.legend()"
   ]
  },
  {
   "cell_type": "code",
   "execution_count": null,
   "metadata": {
    "colab": {
     "base_uri": "https://localhost:8080/",
     "height": 283
    },
    "id": "Q_YRoAqcWbKU",
    "outputId": "7ee15948-f48c-454f-acf1-d2874b370706"
   },
   "outputs": [
    {
     "data": {
      "text/plain": [
       "<matplotlib.legend.Legend at 0x7fd9c86cb668>"
      ]
     },
     "execution_count": 70,
     "metadata": {
      "tags": []
     },
     "output_type": "execute_result"
    },
    {
     "data": {
      "image/png": "[encoded data removed]",
      "text/plain": [
       "<Figure size 432x288 with 1 Axes>"
      ]
     },
     "metadata": {
      "needs_background": "light",
      "tags": []
     },
     "output_type": "display_data"
    }
   ],
   "source": [
    "loss = history.history['loss']\n",
    "val_loss = history.history['val_loss']\n",
    "plt.plot(range(len(loss)),loss,label='loss')\n",
    "plt.plot(range(len(loss)),val_loss,label='val_loss')\n",
    "plt.legend()"
   ]
  },
  {
   "cell_type": "code",
   "execution_count": null,
   "metadata": {
    "id": "xe-YyJKbW9FN"
   },
   "outputs": [],
   "source": [
    "model.save('audio_siam_05.h5')"
   ]
  },
  {
   "cell_type": "markdown",
   "metadata": {
    "id": "Al6nuY36EP2L"
   },
   "source": [
    "# For Prediction"
   ]
  },
  {
   "cell_type": "code",
   "execution_count": null,
   "metadata": {
    "colab": {
     "base_uri": "https://localhost:8080/",
     "height": 35
    },
    "id": "5o9kD8STKkyK",
    "outputId": "4b3b19b6-c777-4e63-9c50-160631597d78"
   },
   "outputs": [
    {
     "data": {
      "text/plain": [
       "array([[0.16194649]], dtype=float32)"
      ]
     },
     "execution_count": 18,
     "metadata": {
      "tags": []
     },
     "output_type": "execute_result"
    }
   ],
   "source": [
    "model.predict([pairs_test[1,0].reshape(1,128,275,1), pairs_test[1,1].reshape(1,128,275,1)],labels_test[1])"
   ]
  },
  {
   "cell_type": "code",
   "execution_count": null,
   "metadata": {
    "id": "onN72mIREXEy"
   },
   "outputs": [],
   "source": []
  }
 ],
 "metadata": {
  "accelerator": "GPU",
  "colab": {
   "collapsed_sections": [],
   "name": "main",
   "provenance": []
  },
  "kernelspec": {
   "display_name": "Python 3",
   "language": "python",
   "name": "python3"
  },
  "language_info": {
   "codemirror_mode": {
    "name": "ipython",
    "version": 3
   },
   "file_extension": ".py",
   "mimetype": "text/x-python",
   "name": "python",
   "nbconvert_exporter": "python",
   "pygments_lexer": "ipython3",
   "version": "3.8.3"
  }
 },
 "nbformat": 4,
 "nbformat_minor": 1
}
